{
 "cells": [
  {
   "cell_type": "code",
   "execution_count": 1,
   "metadata": {},
   "outputs": [],
   "source": [
    "from algorithms import fges, ldecc, marvel, mb_by_mb, pc, snap\n",
    "from evaluate import *\n",
    "from main import run_experiments"
   ]
  },
  {
   "cell_type": "code",
   "execution_count": 2,
   "metadata": {},
   "outputs": [],
   "source": [
    "# Define experimental parameters\n",
    "algorithm = snap  # The causal discovery algorithm to run.\n",
    "ci_test = \"d_separation\"  # The conditional independence test to use.\n",
    "seed = 0  # Global seed.\n",
    "exp = 100  # Number of experiments.\n",
    "file = None  # Data file path.\n",
    "nodes = 50  # Number of nodes.\n",
    "exp_degree = 3.0  # Expected degree.\n",
    "max_degree = 10  # Maximum degree.\n",
    "targets = 4  # Number of targets.\n",
    "connected = True  # Whether to generate connected graphs.\n",
    "identifiable = False  # Whether to ensure that all targets are identifiable.\n",
    "min_adj_size = -1  # Minimum adjustment set size to consider causal effect identifiable.\n",
    "samples = 1000  # Number of samples.\n",
    "discrete = False  # Whether to generate discrete data.\n",
    "filter_order = -1  # The maximum order of CI tests for pre-filtering.\n",
    "alpha = 0.05  # Significance level."
   ]
  },
  {
   "cell_type": "code",
   "execution_count": null,
   "metadata": {},
   "outputs": [],
   "source": [
    "# Run experiments\n",
    "results = run_experiments(\n",
    "    algorithm=algorithm,\n",
    "    seed=seed,\n",
    "    exp=exp,\n",
    "    file = None,\n",
    "    nodes=nodes,\n",
    "    exp_degree=exp_degree,\n",
    "    max_degree=max_degree,\n",
    "    targets=targets,\n",
    "    connected=connected,\n",
    "    identifiable=identifiable,\n",
    "    min_adj_size=min_adj_size,\n",
    "    samples=samples,\n",
    "    discrete=discrete,\n",
    "    filter_order=filter_order,\n",
    "    ci_test=ci_test,\n",
    "    alpha=alpha,\n",
    ")"
   ]
  },
  {
   "cell_type": "code",
   "execution_count": null,
   "metadata": {},
   "outputs": [],
   "source": [
    "# Get number of CI tests and computation time\n",
    "num_tests = get_test_nums(results) + get_filter_test_nums(results)\n",
    "print(\"Number of CI tests: \", num_tests.mean())\n",
    "time = get_times(results)\n",
    "print(\"Computation time: \", time.mean())"
   ]
  },
  {
   "cell_type": "code",
   "execution_count": 5,
   "metadata": {},
   "outputs": [],
   "source": [
    "# To compare to the true graphs, load the generated experimental data\n",
    "experiments = get_experiments(\n",
    "    seed=seed,\n",
    "    exp=exp,\n",
    "    file=file,\n",
    "    nodes=nodes,\n",
    "    exp_degree=exp_degree,\n",
    "    max_degree=max_degree,\n",
    "    targets=targets,\n",
    "    connected=connected,\n",
    "    identifiable=identifiable,\n",
    "    min_adj_size=min_adj_size,\n",
    "    samples=samples,\n",
    "    discrete=discrete,\n",
    ")"
   ]
  },
  {
   "cell_type": "code",
   "execution_count": null,
   "metadata": {},
   "outputs": [],
   "source": [
    "# Compute SHD\n",
    "shd = get_shds(results, experiments)\n",
    "print(\"Structural Hamming Distance: \", shd.mean())"
   ]
  },
  {
   "cell_type": "code",
   "execution_count": 7,
   "metadata": {},
   "outputs": [],
   "source": [
    "# Compute AID\n",
    "from gadjid import (\n",
    "    ancestor_aid_selected_pairs,\n",
    "    oset_aid_selected_pairs,\n",
    "    parent_aid_selected_pairs,\n",
    ")\n",
    "\n",
    "if identifiable:\n",
    "    aid = get_aid(results, experiments, ancestor_aid_selected_pairs)\n",
    "    print(\"Ancestor Identification Distance: \", aid.mean())"
   ]
  },
  {
   "cell_type": "code",
   "execution_count": null,
   "metadata": {},
   "outputs": [],
   "source": [
    "# Compute intervention distance on a seperate set of samples\n",
    "samples = generate_samples_for_experiments(experiments)\n",
    "true_effects = get_true_causal_effects(experiments, \"gaussian\")\n",
    "est_effects = estimate_causal_effects(results, samples, \"global\", \"gaussian\")\n",
    "intervention_distance = get_intervention_distance(est_effects, true_effects)\n",
    "print(\"Intervention Distance: \", intervention_distance.mean())"
   ]
  }
 ],
 "metadata": {
  "kernelspec": {
   "display_name": "venv",
   "language": "python",
   "name": "python3"
  },
  "language_info": {
   "codemirror_mode": {
    "name": "ipython",
    "version": 3
   },
   "file_extension": ".py",
   "mimetype": "text/x-python",
   "name": "python",
   "nbconvert_exporter": "python",
   "pygments_lexer": "ipython3",
   "version": "3.12.8"
  }
 },
 "nbformat": 4,
 "nbformat_minor": 2
}
